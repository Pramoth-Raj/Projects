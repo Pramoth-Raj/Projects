{
 "cells": [
  {
   "cell_type": "markdown",
   "metadata": {},
   "source": [
    "# Task 2"
   ]
  },
  {
   "cell_type": "markdown",
   "metadata": {},
   "source": [
    "### Method 1"
   ]
  },
  {
   "cell_type": "code",
   "execution_count": null,
   "metadata": {},
   "outputs": [],
   "source": [
    "import os\n",
    "from PyPDF2 import PdfReader\n",
    "from gensim.models.doc2vec import Doc2Vec, TaggedDocument\n",
    "\n",
    "def extract_text_from_pdf(pdf_path):\n",
    "    \"\"\"Extract text from a PDF file.\"\"\"\n",
    "    reader = PdfReader(pdf_path)\n",
    "    text = \"\"\n",
    "    for page in reader.pages:\n",
    "        text += page.extract_text()\n",
    "    return text\n",
    "\n",
    "def generate_vectors(folder_path, model_path='doc2vec.model'):\n",
    "    \"\"\"\n",
    "    Extract text from PDFs in folders and generate two lists of vectors.\n",
    "    Each subfolder should contain at least two PDFs.\n",
    "    \"\"\"\n",
    "    first_pdf_texts = []\n",
    "    second_pdf_texts = []\n",
    "\n",
    "    # Traverse through the 5 folders\n",
    "    for subfolder in sorted(os.listdir(folder_path)):\n",
    "        subfolder_path = os.path.join(folder_path, subfolder)\n",
    "        if os.path.isdir(subfolder_path):\n",
    "            pdf_files = sorted(\n",
    "                [f for f in os.listdir(subfolder_path) if f.endswith('.pdf')]\n",
    "            )\n",
    "            if len(pdf_files) >= 2:\n",
    "                # Extract text from the first and second PDFs\n",
    "                first_pdf_path = os.path.join(subfolder_path, pdf_files[0])\n",
    "                second_pdf_path = os.path.join(subfolder_path, pdf_files[1])\n",
    "\n",
    "                first_pdf_texts.append(extract_text_from_pdf(first_pdf_path))\n",
    "                second_pdf_texts.append(extract_text_from_pdf(second_pdf_path))\n",
    "\n",
    "    # Combine all texts for doc2vec training\n",
    "    all_texts = first_pdf_texts + second_pdf_texts\n",
    "    tagged_data = [\n",
    "        TaggedDocument(words=text.split(), tags=[str(i)]) for i, text in enumerate(all_texts)\n",
    "    ]\n",
    "\n",
    "    # Train Doc2Vec model\n",
    "    model = Doc2Vec(tagged_data, vector_size=100, window=5, min_count=1, workers=4, epochs=20)\n",
    "    model.save(model_path)\n",
    "\n",
    "    # Generate vectors for first and second PDF texts\n",
    "    first_pdf_vectors = [model.infer_vector(text.split()) for text in first_pdf_texts]\n",
    "    second_pdf_vectors = [model.infer_vector(text.split()) for text in second_pdf_texts]\n",
    "\n",
    "    return first_pdf_vectors, second_pdf_vectors\n",
    "\n",
    "# Example usage\n",
    "folder_path = \"Data/Reference/Publishable\"  # Replace with your folder path\n",
    "first_vectors, second_vectors = generate_vectors(folder_path)"
   ]
  },
  {
   "cell_type": "code",
   "execution_count": 2,
   "metadata": {},
   "outputs": [
    {
     "name": "stdout",
     "output_type": "stream",
     "text": [
      "The index of the closest vector is: 4\n"
     ]
    }
   ],
   "source": [
    "import numpy as np\n",
    "from sklearn.metrics.pairwise import cosine_similarity\n",
    "\n",
    "def find_closest_vector(training_vectors, new_vector):\n",
    "    \"\"\"\n",
    "    Find the index of the closest vector to the new vector among the training vectors.\n",
    "    \n",
    "    Args:\n",
    "        training_vectors (list or np.ndarray): List or array of training vectors.\n",
    "        new_vector (np.ndarray): The new vector to compare.\n",
    "    \n",
    "    Returns:\n",
    "        int: Index of the closest vector in the training vectors.\n",
    "    \"\"\"\n",
    "    training_vectors = np.array(training_vectors)  # Ensure it's a NumPy array\n",
    "    new_vector = np.array(new_vector).reshape(1, -1)  # Reshape to match dimensions\n",
    "    similarities = cosine_similarity(training_vectors, new_vector)\n",
    "    closest_index = np.argmax(similarities)  # Index of the highest similarity\n",
    "    return closest_index\n",
    "\n",
    "# Example usage\n",
    "# Assuming `first_vectors` contains the training vectors from the first PDF of each folder\n",
    "new_vector = second_vectors[4]  # Replace with your new vector\n",
    "closest_index = find_closest_vector(first_vectors, new_vector)\n",
    "\n",
    "print(f\"The index of the closest vector is: {closest_index}\")"
   ]
  },
  {
   "cell_type": "code",
   "execution_count": 3,
   "metadata": {},
   "outputs": [
    {
     "name": "stdout",
     "output_type": "stream",
     "text": [
      "The index of the closest vector is: 0\n",
      "The index of the closest vector is: 1\n",
      "The index of the closest vector is: 1\n",
      "The index of the closest vector is: 3\n",
      "The index of the closest vector is: 4\n"
     ]
    }
   ],
   "source": [
    "for i in range(5):\n",
    "    new_vector = second_vectors[i]  # Replace with your new vector\n",
    "    closest_index = find_closest_vector(first_vectors, new_vector)\n",
    "    print(f\"The index of the closest vector is: {closest_index}\")"
   ]
  },
  {
   "cell_type": "markdown",
   "metadata": {},
   "source": [
    "The predicted classes should be - 0, 1, 2, 3, 4 but the KDD has been wrongly identified as EMNLP"
   ]
  },
  {
   "cell_type": "markdown",
   "metadata": {},
   "source": [
    "### Method 2"
   ]
  },
  {
   "cell_type": "markdown",
   "metadata": {},
   "source": [
    "Matching the abstact of the papers with generalised fields under AI to classify them into the conferences that specialise in that field."
   ]
  },
  {
   "cell_type": "code",
   "execution_count": 4,
   "metadata": {},
   "outputs": [],
   "source": [
    "train_sentences=[\"Computer Vision\",\n",
    "                 \"Image Processing\",\n",
    "                 \"extracting structures or answers from images or video or applying mathematical methods to data to extract or recognize patterns.\",\n",
    "\"Natural language processing\",\n",
    "\"Part-of-speech tagging, parsing, and named entity recognition\",\n",
    "\"Data Mining\", \n",
    "\"large-scale data analytics\",\n",
    "\"Knowledge discovery through data analysis\"\n",
    "\"Neural Information processing systems\",\n",
    "\"neuroscience\",\n",
    "\"optimization\",\n",
    "\"life sciences, and social sciences\",\n",
    "\"computational and mathematical principles behind machine learning\",\n",
    "\"theoretical studies on learning systems\"] # Generalised fields"
   ]
  },
  {
   "cell_type": "code",
   "execution_count": 5,
   "metadata": {},
   "outputs": [
    {
     "name": "stderr",
     "output_type": "stream",
     "text": [
      "e:\\Projects\\ProjectEnvironment\\lib\\site-packages\\sentence_transformers\\cross_encoder\\CrossEncoder.py:13: TqdmWarning: IProgress not found. Please update jupyter and ipywidgets. See https://ipywidgets.readthedocs.io/en/stable/user_install.html\n",
      "  from tqdm.autonotebook import tqdm, trange\n"
     ]
    }
   ],
   "source": [
    "from sentence_transformers import SentenceTransformer\n",
    "model_name = 'all-mpnet-base-v2'\n",
    "model = SentenceTransformer(model_name) # import the relevant sentence transformer to run the similarity search"
   ]
  },
  {
   "cell_type": "code",
   "execution_count": 6,
   "metadata": {},
   "outputs": [],
   "source": [
    "train_embed = [model.encode(i) for i in train_sentences] # embed the sentences containing the fields"
   ]
  },
  {
   "cell_type": "code",
   "execution_count": null,
   "metadata": {},
   "outputs": [],
   "source": [
    "def extract_title_and_abstract(pdf_path):\n",
    "    \"\"\"\n",
    "    Extracts the title and abstract from a PDF.\n",
    "    Title: Text from start to '\\nAbstract\\n'.\n",
    "    Abstract: Text between '\\nAbstract\\n' and '1 Introduction'.\n",
    "    \"\"\"\n",
    "    reader = PdfReader(pdf_path)\n",
    "    text = \"\"\n",
    "    for page in reader.pages:\n",
    "        text += page.extract_text()\n",
    "\n",
    "    # Extract title\n",
    "    title_end = text.find(\"\\nAbstract\\n\")\n",
    "    title = text[:title_end].strip() if title_end != -1 else \"\"\n",
    "\n",
    "    # Extract abstract\n",
    "    abstract_start = text.find(\"\\nAbstract\\n\") + len(\"\\nAbstract\\n\")\n",
    "    abstract_end = text.find(\"1 Introduction\")\n",
    "    abstract = text[abstract_start:abstract_end].strip() if abstract_start != -1 and abstract_end != -1 else \"\"\n",
    "\n",
    "    return title, abstract\n",
    "\n",
    "def embed_texts(folder_path, model_name='all-MiniLM-L6-v2'):\n",
    "    \"\"\"\n",
    "    Extracts and embeds titles and abstracts from PDFs in folder structure.\n",
    "    Assigns labels based on folder names.\n",
    "    \n",
    "    Returns:\n",
    "        tuple: Title embeddings, Abstract embeddings, Labels for each.\n",
    "    \"\"\"\n",
    "    model = SentenceTransformer(model_name)\n",
    "    titles, abstracts, labels = [], [], []\n",
    "\n",
    "    for subfolder in sorted(os.listdir(folder_path)):\n",
    "        subfolder_path = os.path.join(folder_path, subfolder)\n",
    "        if os.path.isdir(subfolder_path):\n",
    "            label = subfolder  # Use folder name as label\n",
    "            pdf_files = sorted([f for f in os.listdir(subfolder_path) if f.endswith('.pdf')])\n",
    "\n",
    "            for pdf_file in pdf_files:\n",
    "                pdf_path = os.path.join(subfolder_path, pdf_file)\n",
    "\n",
    "                # Extract title and abstract\n",
    "                title, abstract = extract_title_and_abstract(pdf_path)\n",
    "\n",
    "                # Embed title and abstract\n",
    "                if title:\n",
    "                    title_embedding = model.encode(title)\n",
    "                    titles.append(title_embedding)\n",
    "                    labels.append(label)\n",
    "\n",
    "                if abstract:\n",
    "                    abstract_embedding = model.encode(abstract)\n",
    "                    abstracts.append(abstract_embedding)\n",
    "\n",
    "    return titles, abstracts, labels\n",
    "\n",
    "# Example usage\n",
    "folder_path = \"Data/Reference/Publishable\"  # Replace with your folder path\n",
    "titles, abstracts, labels = embed_texts(folder_path, model_name=model_name) # embed all the publishable papers and get their labels"
   ]
  },
  {
   "cell_type": "code",
   "execution_count": 8,
   "metadata": {},
   "outputs": [],
   "source": [
    "import numpy as np\n",
    "from sklearn.metrics.pairwise import cosine_similarity\n",
    "\n",
    "def find_closest_vector(training_vectors, new_vector):\n",
    "    \"\"\"\n",
    "    Find the index of the closest vector to the new vector among the training vectors.\n",
    "    \n",
    "    Args:\n",
    "        training_vectors (list or np.ndarray): List or array of training vectors.\n",
    "        new_vector (np.ndarray): The new vector to compare.\n",
    "    \n",
    "    Returns:\n",
    "        int: Index of the closest vector in the training vectors.\n",
    "    \"\"\"\n",
    "    training_vectors = np.array(training_vectors)  # Ensure it's a NumPy array\n",
    "    new_vector = np.array(new_vector).reshape(1, -1)  # Reshape to match dimensions\n",
    "    similarities = cosine_similarity(training_vectors, new_vector)\n",
    "    closest_index = np.argmax(similarities)  # Index of the highest similarity\n",
    "    return closest_index"
   ]
  },
  {
   "cell_type": "markdown",
   "metadata": {},
   "source": [
    "Using KNN with k=1 "
   ]
  },
  {
   "cell_type": "code",
   "execution_count": 11,
   "metadata": {},
   "outputs": [
    {
     "name": "stdout",
     "output_type": "stream",
     "text": [
      "CVPR\n",
      "Computer Vision\n",
      "CVPR\n",
      "extracting structures or answers from images or video or applying mathematical methods to data to extract or recognize patterns.\n",
      "EMNLP\n",
      "Part-of-speech tagging, parsing, and named entity recognition\n",
      "EMNLP\n",
      "computational and mathematical principles behind machine learning\n",
      "KDD\n",
      "Computer Vision\n",
      "KDD\n",
      "large-scale data analytics\n",
      "NeurIPS\n",
      "theoretical studies on learning systems\n",
      "NeurIPS\n",
      "computational and mathematical principles behind machine learning\n",
      "TMLR\n",
      "optimization\n",
      "TMLR\n",
      "computational and mathematical principles behind machine learning\n"
     ]
    }
   ],
   "source": [
    "for i in range(len(titles)): # using the title embedding as input to the KNN\n",
    "    index = find_closest_vector(train_embed, titles[i])\n",
    "    print(labels[i])\n",
    "    print(train_sentences[index])"
   ]
  },
  {
   "cell_type": "code",
   "execution_count": 12,
   "metadata": {},
   "outputs": [
    {
     "name": "stdout",
     "output_type": "stream",
     "text": [
      "CVPR\n",
      "extracting structures or answers from images or video or applying mathematical methods to data to extract or recognize patterns.\n",
      "CVPR\n",
      "Computer Vision\n",
      "EMNLP\n",
      "Part-of-speech tagging, parsing, and named entity recognition\n",
      "EMNLP\n",
      "Natural language processing\n",
      "KDD\n",
      "Data Mining\n",
      "KDD\n",
      "large-scale data analytics\n",
      "NeurIPS\n",
      "computational and mathematical principles behind machine learning\n",
      "NeurIPS\n",
      "computational and mathematical principles behind machine learning\n",
      "TMLR\n",
      "optimization\n",
      "TMLR\n",
      "computational and mathematical principles behind machine learning\n"
     ]
    }
   ],
   "source": [
    "for i in range(len(abstracts)): # using abstract embeddings as input to KNN\n",
    "    index = find_closest_vector(train_embed, abstracts[i])\n",
    "    print(labels[i])\n",
    "    print(train_sentences[index])"
   ]
  },
  {
   "cell_type": "markdown",
   "metadata": {},
   "source": [
    "NeurIPS and TMLR seem to have no distinction in this classification.  \n",
    "Though this method looks decent, when tested with external testing data, it performs very poorly.\n",
    "Including More topics made it even worse with k>1."
   ]
  },
  {
   "cell_type": "markdown",
   "metadata": {},
   "source": [
    "### Method 3 (character count)"
   ]
  },
  {
   "cell_type": "markdown",
   "metadata": {},
   "source": [
    "Neurips and TMLR tend to be theory oriented, so they contain a lot of mathematical expressions containing al lot of mathematiacal characters. So the ratio of math characters to numerical characters will be higher than others."
   ]
  },
  {
   "cell_type": "code",
   "execution_count": null,
   "metadata": {},
   "outputs": [
    {
     "name": "stdout",
     "output_type": "stream",
     "text": [
      "Total number of characters in the PDF: 20341\n",
      "Number of numerical characters: 438\n",
      "Number of mathematical characters: 1020\n",
      "Ratio : 0.7167789194238238\n"
     ]
    }
   ],
   "source": [
    "import re\n",
    "from PyPDF2 import PdfReader\n",
    "\n",
    "def analyze_pdf_characters(pdf_path):\n",
    "    try:\n",
    "        # Open and read the PDF\n",
    "        reader = PdfReader(pdf_path)\n",
    "        text = \"\"\n",
    "        for page in reader.pages:\n",
    "            text += page.extract_text()\n",
    "        \n",
    "        # Define patterns\n",
    "        numerical_pattern = r'[0-9]'\n",
    "        math_pattern = r'[+\\-*/=^%()]'\n",
    "        math_pattern = r'[σ∑∫π√∞Δθλ+\\-=*/^<>%∂µˆΓαγδθλϵ(){}]'\n",
    "        \n",
    "        # Calculate character counts\n",
    "        total_characters = len(text)  # Total characters, including spaces and newlines\n",
    "        numerical_count = len(re.findall(numerical_pattern, text))  # Count numerical characters\n",
    "        math_count = len(re.findall(math_pattern, text))  # Count mathematical characters\n",
    "        \n",
    "        return total_characters, numerical_count, math_count\n",
    "    except Exception as e:\n",
    "        print(f\"Error processing PDF: {e}\")\n",
    "        return None, None, None\n",
    "\n",
    "\n",
    "# Example usage\n",
    "pdf_path = r\"Data\\Reference\\Publishable\\TMLR\\R015.pdf\"  # Replace with the path to your PDF file\n",
    "total_characters, numerical_count, math_count = analyze_pdf_characters(pdf_path)\n",
    "\n",
    "if total_characters is not None:\n",
    "    print(f\"Total number of characters in the PDF: {total_characters}\")\n",
    "    print(f\"Number of numerical characters: {numerical_count}\")\n",
    "    print(f\"Number of mathematical characters: {math_count}\")\n",
    "    print(f\"Ratio : {((numerical_count+math_count)/total_characters)*10}\")"
   ]
  },
  {
   "cell_type": "code",
   "execution_count": null,
   "metadata": {},
   "outputs": [
    {
     "name": "stdout",
     "output_type": "stream",
     "text": [
      "Processing file: KDSH_2025_Dataset/Reference/Publishable\\CVPR\\R006.pdf\n",
      "Processing file: KDSH_2025_Dataset/Reference/Publishable\\CVPR\\R007.pdf\n",
      "Processing file: KDSH_2025_Dataset/Reference/Publishable\\EMNLP\\R008.pdf\n",
      "Processing file: KDSH_2025_Dataset/Reference/Publishable\\EMNLP\\R009.pdf\n",
      "Processing file: KDSH_2025_Dataset/Reference/Publishable\\KDD\\R010.pdf\n",
      "Processing file: KDSH_2025_Dataset/Reference/Publishable\\KDD\\R011.pdf\n",
      "Processing file: KDSH_2025_Dataset/Reference/Publishable\\NeurIPS\\R012.pdf\n",
      "Processing file: KDSH_2025_Dataset/Reference/Publishable\\NeurIPS\\R013.pdf\n",
      "Processing file: KDSH_2025_Dataset/Reference/Publishable\\TMLR\\R014.pdf\n",
      "Processing file: KDSH_2025_Dataset/Reference/Publishable\\TMLR\\R015.pdf\n"
     ]
    }
   ],
   "source": [
    "import os\n",
    "root_folder = \"Data/Reference/Publishable\"\n",
    "tot_char_list = []\n",
    "numerical_count_list = []\n",
    "math_count_list = []\n",
    "for foldername, subfolders, filenames in os.walk(root_folder):\n",
    "    for filename in filenames:\n",
    "        file_path = os.path.join(foldername, filename)  # Get the full path of the file\n",
    "        print(f\"Processing file: {file_path}\")\n",
    "        \n",
    "        # Perform your desired operations here, e.g., read or process the file\n",
    "        # Example: If working with text files\n",
    "        if filename.endswith(\".pdf\"): \n",
    "            total_characters, numerical_count, math_count = analyze_pdf_characters(file_path)\n",
    "\n",
    "            tot_char_list.append(total_characters)\n",
    "            numerical_count_list.append(numerical_count)\n",
    "            math_count_list.append(math_count)"
   ]
  },
  {
   "cell_type": "code",
   "execution_count": 15,
   "metadata": {},
   "outputs": [],
   "source": [
    "ratio_list = [math_count_list[i]/numerical_count_list[i] for i in range(len(math_count_list))]\n",
    "paper_class = np.array([i//2 for i in range(len(math_count_list))])"
   ]
  },
  {
   "cell_type": "code",
   "execution_count": 17,
   "metadata": {},
   "outputs": [
    {
     "data": {
      "image/png": "[encoded data removed]",
      "text/plain": [
       "<Figure size 640x480 with 2 Axes>"
      ]
     },
     "metadata": {},
     "output_type": "display_data"
    }
   ],
   "source": [
    "import matplotlib.pyplot as plt\n",
    "x, y = ratio_list, [0]*len(ratio_list)\n",
    "z = paper_class\n",
    "scatter = plt.scatter(x, y, c=paper_class, s=6)\n",
    "plt.title('Ratio of math characters to numerical characters')\n",
    "\n",
    "# Add a colorbar to show the mapping\n",
    "plt.colorbar(scatter, label='class')\n",
    "\n",
    "# Label axes\n",
    "plt.xlabel('ratio of num to math')\n",
    "plt.ylabel('0')\n",
    "\n",
    "# Show the plot\n",
    "plt.show()"
   ]
  },
  {
   "cell_type": "markdown",
   "metadata": {},
   "source": [
    "Eventhough this looks like a good method, this is not that reliable"
   ]
  },
  {
   "cell_type": "markdown",
   "metadata": {},
   "source": [
    "### Final Model Training"
   ]
  },
  {
   "cell_type": "markdown",
   "metadata": {},
   "source": [
    "#### Data Preprocessing"
   ]
  },
  {
   "cell_type": "code",
   "execution_count": null,
   "metadata": {},
   "outputs": [],
   "source": [
    "import pandas as pd\n",
    "cvpr_data = pd.read_csv('Titles/cvpr.csv')\n",
    "emnlp_data = pd.read_parquet('Titles/emnlp.parquet')\n",
    "neurips_data = pd.read_parquet('Titles/neurips.parquet')\n",
    "tmlr_data = pd.read_csv('Titles/tmlr.csv')\n",
    "kdd_topics = np.load('Titles/kdd.npy')"
   ]
  },
  {
   "cell_type": "code",
   "execution_count": 32,
   "metadata": {},
   "outputs": [],
   "source": [
    "cvpr_titles = cvpr_data['Title'].dropna().to_numpy()[:len(kdd_topics)]\n",
    "emnlp_titles = emnlp_data['title'].dropna().to_numpy()[:len(kdd_topics)]\n",
    "neurips_titles = neurips_data['title'].dropna().to_numpy()[:len(kdd_topics)]\n",
    "tmlr_titles = tmlr_data['title'].dropna().to_numpy()[:len(kdd_topics)]"
   ]
  },
  {
   "cell_type": "code",
   "execution_count": 33,
   "metadata": {},
   "outputs": [],
   "source": [
    "from sentence_transformers import SentenceTransformer\n",
    "model_name = 'all-mpnet-base-v2'\n",
    "model = SentenceTransformer(model_name)"
   ]
  },
  {
   "cell_type": "code",
   "execution_count": 34,
   "metadata": {},
   "outputs": [],
   "source": [
    "cvpr_titles_embeds = [model.encode(i) for i in cvpr_titles]\n",
    "emnlp_titles_embeds = [model.encode(i) for i in emnlp_titles]\n",
    "neurips_titles_embeds = [model.encode(i) for i in neurips_titles]\n",
    "tmlr_titles_embeds = [model.encode(i) for i in tmlr_titles]\n",
    "kdd_titles_embeds = [model.encode(i) for i in kdd_topics]"
   ]
  },
  {
   "cell_type": "code",
   "execution_count": 36,
   "metadata": {},
   "outputs": [],
   "source": [
    "titles_vector_base = np.array(cvpr_titles_embeds+emnlp_titles_embeds+kdd_titles_embeds+neurips_titles_embeds+tmlr_titles_embeds)\n",
    "titles_vector_labels = np.array([i//len(kdd_titles_embeds) for i in range(len(titles_vector_base))])"
   ]
  },
  {
   "cell_type": "code",
   "execution_count": 37,
   "metadata": {},
   "outputs": [],
   "source": [
    "np.save('KNN_train_data', titles_vector_base)\n",
    "np.save('KNN_train_labels', titles_vector_labels)"
   ]
  },
  {
   "cell_type": "code",
   "execution_count": 38,
   "metadata": {},
   "outputs": [],
   "source": [
    "titles_vector_base = np.load('KNN_train_data.npy')\n",
    "titles_vector_labels = np.load('KNN_train_labels.npy')"
   ]
  },
  {
   "cell_type": "code",
   "execution_count": 39,
   "metadata": {},
   "outputs": [],
   "source": [
    "from sklearn.metrics.pairwise import cosine_similarity\n",
    "import numpy as np\n",
    "\n",
    "def find_n_closest_vectors(training_vectors, new_vector, n=1):\n",
    "    \"\"\"\n",
    "    Find the indices of the n closest vectors to the new vector among the training vectors.\n",
    "    \n",
    "    Args:\n",
    "        training_vectors (list or np.ndarray): List or array of training vectors.\n",
    "        new_vector (np.ndarray): The new vector to compare.\n",
    "        n (int): Number of closest vectors to find.\n",
    "    \n",
    "    Returns:\n",
    "        list: Indices of the n closest vectors in the training vectors.\n",
    "    \"\"\"\n",
    "    training_vectors = np.array(training_vectors)  # Ensure it's a NumPy array\n",
    "    new_vector = np.array(new_vector).reshape(1, -1)  # Reshape to match dimensions\n",
    "    similarities = cosine_similarity(training_vectors, new_vector).flatten()  # Compute cosine similarities\n",
    "    closest_indices = np.argsort(similarities)[-n:][::-1]  # Get indices of n highest similarities in descending order\n",
    "    return closest_indices.tolist()\n",
    "\n",
    "from collections import Counter\n",
    "\n",
    "def most_frequent_element(lst):\n",
    "    \"\"\"\n",
    "    Find the element with the highest frequency of occurrence in a list.\n",
    "    \n",
    "    Args:\n",
    "        lst (list): Input list of elements.\n",
    "    \n",
    "    Returns:\n",
    "        The element with the highest frequency.\n",
    "    \"\"\"\n",
    "    if not lst:\n",
    "        return None  # Handle empty list case\n",
    "    \n",
    "    counter = Counter(lst)  # Count the frequency of each element\n",
    "    most_common_element = counter.most_common(1)[0][0]  # Get the element with the highest frequency\n",
    "    return most_common_element"
   ]
  },
  {
   "cell_type": "markdown",
   "metadata": {},
   "source": [
    "#### Model testing on labeled data"
   ]
  },
  {
   "cell_type": "code",
   "execution_count": 40,
   "metadata": {},
   "outputs": [
    {
     "name": "stdout",
     "output_type": "stream",
     "text": [
      "CVPR\n",
      "0\n",
      "CVPR\n",
      "0\n",
      "EMNLP\n",
      "1\n",
      "EMNLP\n",
      "1\n",
      "KDD\n",
      "2\n",
      "KDD\n",
      "2\n",
      "NeurIPS\n",
      "3\n",
      "NeurIPS\n",
      "4\n",
      "TMLR\n",
      "4\n",
      "TMLR\n",
      "4\n"
     ]
    }
   ],
   "source": [
    "for i in range(len(abstracts)):\n",
    "    index = find_n_closest_vectors(titles_vector_base, abstracts[i], n=21)\n",
    "    print(labels[i])\n",
    "    l = [titles_vector_labels[i] for i in index]\n",
    "    print(most_frequent_element(l))"
   ]
  },
  {
   "cell_type": "markdown",
   "metadata": {},
   "source": [
    "We see that it works well and we have verified through other means that this method is pretty reliable"
   ]
  },
  {
   "cell_type": "markdown",
   "metadata": {},
   "source": [
    "### Final Model function"
   ]
  },
  {
   "cell_type": "code",
   "execution_count": 45,
   "metadata": {},
   "outputs": [],
   "source": [
    "from sklearn.metrics.pairwise import cosine_similarity\n",
    "import numpy as np\n",
    "\n",
    "def find_n_closest_vectors(training_vectors, new_vector, n=1):\n",
    "    \"\"\"\n",
    "    Find the indices of the n closest vectors to the new vector among the training vectors.\n",
    "    \n",
    "    Args:\n",
    "        training_vectors (list or np.ndarray): List or array of training vectors.\n",
    "        new_vector (np.ndarray): The new vector to compare.\n",
    "        n (int): Number of closest vectors to find.\n",
    "    \n",
    "    Returns:\n",
    "        list: Indices of the n closest vectors in the training vectors.\n",
    "    \"\"\"\n",
    "    training_vectors = np.array(training_vectors)  # Ensure it's a NumPy array\n",
    "    new_vector = np.array(new_vector).reshape(1, -1)  # Reshape to match dimensions\n",
    "    similarities = cosine_similarity(training_vectors, new_vector).flatten()  # Compute cosine similarities\n",
    "    closest_indices = np.argsort(similarities)[-n:][::-1]  # Get indices of n highest similarities in descending order\n",
    "    return closest_indices.tolist()\n",
    "\n",
    "from collections import Counter\n",
    "\n",
    "def most_frequent_element(lst):\n",
    "    \"\"\"\n",
    "    Find the element with the highest frequency of occurrence in a list.\n",
    "    \n",
    "    Args:\n",
    "        lst (list): Input list of elements.\n",
    "    \n",
    "    Returns:\n",
    "        The element with the highest frequency.\n",
    "    \"\"\"\n",
    "    if not lst:\n",
    "        return None  # Handle empty list case\n",
    "    \n",
    "    counter = Counter(lst)  # Count the frequency of each element\n",
    "    most_common_element = counter.most_common(1)[0][0]  # Get the element with the highest frequency\n",
    "    return most_common_element\n",
    "\n",
    "def extract_abstract(pdf_path):\n",
    "    \"\"\"\n",
    "    Extracts the title and abstract from a PDF.\n",
    "    Title: Text from start to '\\nAbstract\\n'.\n",
    "    Abstract: Text between '\\nAbstract\\n' and '1 Introduction'.\n",
    "    \"\"\"\n",
    "    reader = PdfReader(pdf_path)\n",
    "    text = \"\"\n",
    "    for page in reader.pages:\n",
    "        text += page.extract_text()\n",
    "\n",
    "\n",
    "    # Extract abstract\n",
    "    abstract_start = text.find(\"\\nAbstract\\n\") + len(\"\\nAbstract\\n\")\n",
    "    abstract_end = text.find(\"1 Introduction\")\n",
    "    abstract = text[abstract_start:abstract_end].strip() if abstract_start != -1 and abstract_end != -1 else \"\"\n",
    "\n",
    "    return abstract"
   ]
  },
  {
   "cell_type": "code",
   "execution_count": 47,
   "metadata": {},
   "outputs": [],
   "source": [
    "from sentence_transformers import SentenceTransformer\n",
    "def predict_conference(pdf_path): # this is the final funciton that gives the predicted conference of the research paper pdf\n",
    "    titles_vector_base = np.load('KNN_train_data.npy') # Vector store can be used here\n",
    "    titles_vector_labels = np.load('KNN_train_labels.npy')\n",
    "    class_label = ['CVPR', 'EMNLP', 'KDD', 'NeurIPS', 'TMLR']\n",
    "    abstract = extract_abstract(pdf_path)\n",
    "    model_name = 'all-mpnet-base-v2'\n",
    "    model = SentenceTransformer(model_name)\n",
    "    abstract_embed = model.encode(abstract)\n",
    "    index = find_n_closest_vectors(titles_vector_base, abstract_embed, n=21)\n",
    "    l = [titles_vector_labels[i] for i in index]\n",
    "    conference_class = most_frequent_element(l)\n",
    "    return class_label[conference_class]"
   ]
  },
  {
   "cell_type": "markdown",
   "metadata": {},
   "source": [
    "The np.save and np.load functions can be replaced by vector stores of some sort which provide the function of storing and retrieving the train vectors for KNN"
   ]
  },
  {
   "cell_type": "code",
   "execution_count": null,
   "metadata": {},
   "outputs": [
    {
     "name": "stdout",
     "output_type": "stream",
     "text": [
      "TMLR\n"
     ]
    }
   ],
   "source": [
    "pdf_path = r\"Data\\Reference\\Publishable\\TMLR\\R015.pdf\"  # Replace with the path to your PDF file\n",
    "predicted_conference = predict_conference(pdf_path)\n",
    "print(predicted_conference)"
   ]
  },
  {
   "cell_type": "markdown",
   "metadata": {},
   "source": [
    "### Rationale provision modification"
   ]
  },
  {
   "cell_type": "markdown",
   "metadata": {},
   "source": [
    "get_response_from_LLM(prompt) to be filled in"
   ]
  },
  {
   "cell_type": "code",
   "execution_count": 4,
   "metadata": {},
   "outputs": [],
   "source": [
    "import os\n",
    "from groq import Groq\n",
    "def get_response_from_LLM(prompt, api_key): #this function to be filled in with code that would return the response of the LLM for the input prompt\n",
    "    groq_api_key = api_key\n",
    "\n",
    "    client = Groq(\n",
    "        # This is the default and can be omitted\n",
    "        api_key=groq_api_key,\n",
    "    )\n",
    "\n",
    "    chat_completion = client.chat.completions.create(\n",
    "        messages=[\n",
    "            {\n",
    "                \"role\": \"user\",\n",
    "                \"content\": prompt,\n",
    "            }\n",
    "        ],\n",
    "        model=\"llama-3.3-70b-versatile\",\n",
    "    )\n",
    "\n",
    "    return chat_completion.choices[0].message.content"
   ]
  },
  {
   "cell_type": "code",
   "execution_count": 11,
   "metadata": {},
   "outputs": [],
   "source": [
    "def get_rationale_from_LLM(abstract, conference, api_key, n_words=100):\n",
    "    prompt = f'Why is the research paper with abstract: {abstract} best suited to be published in {conference} conference in less than {n_words} words'\n",
    "    rationale = get_response_from_LLM(prompt, api_key)\n",
    "    return rationale"
   ]
  },
  {
   "cell_type": "code",
   "execution_count": 10,
   "metadata": {},
   "outputs": [],
   "source": [
    "from sentence_transformers import SentenceTransformer\n",
    "def predict_conference_and_get_rationale(pdf_path, api_key): # this is the final funciton that gives the predicted conference of the research paper pdf\n",
    "    titles_vector_base = np.load('KNN_train_data.npy') # Vector store can be used here\n",
    "    titles_vector_labels = np.load('KNN_train_labels.npy')\n",
    "    class_label = ['CVPR', 'EMNLP', 'KDD', 'NeurIPS', 'TMLR']\n",
    "    abstract = extract_abstract(pdf_path)\n",
    "    model_name = 'all-mpnet-base-v2'\n",
    "    model = SentenceTransformer(model_name)\n",
    "    abstract_embed = model.encode(abstract)\n",
    "    index = find_n_closest_vectors(titles_vector_base, abstract_embed, n=21)\n",
    "    l = [titles_vector_labels[i] for i in index]\n",
    "    conference_class = most_frequent_element(l)\n",
    "    conference = class_label[conference_class]\n",
    "    rationale = get_rationale_from_LLM(abstract, conference)\n",
    "    return conference, rationale"
   ]
  }
 ],
 "metadata": {
  "kernelspec": {
   "display_name": "ProjectEnvironment",
   "language": "python",
   "name": "python3"
  },
  "language_info": {
   "codemirror_mode": {
    "name": "ipython",
    "version": 3
   },
   "file_extension": ".py",
   "mimetype": "text/x-python",
   "name": "python",
   "nbconvert_exporter": "python",
   "pygments_lexer": "ipython3",
   "version": "3.8.10"
  }
 },
 "nbformat": 4,
 "nbformat_minor": 2
}
